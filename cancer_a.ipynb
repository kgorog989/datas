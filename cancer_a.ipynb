{
 "cells": [
  {
   "cell_type": "markdown",
   "id": "cb8eb66a-9fe6-41df-a254-6a356f54d32e",
   "metadata": {},
   "source": [
    "# Analysing the record of eye cancer patients"
   ]
  },
  {
   "cell_type": "code",
   "execution_count": 3,
   "id": "45b5f24f-eebd-4855-9f01-e7fe45e96b57",
   "metadata": {},
   "outputs": [
    {
     "name": "stdout",
     "output_type": "stream",
     "text": [
      "<class 'pandas.core.frame.DataFrame'>\n",
      "RangeIndex: 5000 entries, 0 to 4999\n",
      "Data columns (total 16 columns):\n",
      " #   Column                Non-Null Count  Dtype \n",
      "---  ------                --------------  ----- \n",
      " 0   Patient_ID            5000 non-null   object\n",
      " 1   Age                   5000 non-null   int64 \n",
      " 2   Gender                5000 non-null   object\n",
      " 3   Cancer_Type           5000 non-null   object\n",
      " 4   Laterality            5000 non-null   object\n",
      " 5   Date_of_Diagnosis     5000 non-null   object\n",
      " 6   Stage_at_Diagnosis    5000 non-null   object\n",
      " 7   Treatment_Type        5000 non-null   object\n",
      " 8   Surgery_Status        5000 non-null   bool  \n",
      " 9   Radiation_Therapy     5000 non-null   int64 \n",
      " 10  Chemotherapy          5000 non-null   int64 \n",
      " 11  Outcome_Status        5000 non-null   object\n",
      " 12  Survival_Time_Months  5000 non-null   int64 \n",
      " 13  Genetic_Markers       2503 non-null   object\n",
      " 14  Family_History        5000 non-null   bool  \n",
      " 15  Country               5000 non-null   object\n",
      "dtypes: bool(2), int64(4), object(10)\n",
      "memory usage: 556.8+ KB\n"
     ]
    }
   ],
   "source": [
    "import pandas as pd\n",
    "\n",
    "df = pd.read_csv('eye_cancer_patients.csv')\n",
    "\n",
    "df.info()"
   ]
  },
  {
   "cell_type": "markdown",
   "id": "c3fb5aeb-d509-4b09-8ddc-fdb9f352b78f",
   "metadata": {},
   "source": [
    "### Data cleaning"
   ]
  },
  {
   "cell_type": "code",
   "execution_count": 42,
   "id": "008e5f20-1005-4a52-8012-7961910bee6d",
   "metadata": {},
   "outputs": [
    {
     "data": {
      "text/html": [
       "<div>\n",
       "<style scoped>\n",
       "    .dataframe tbody tr th:only-of-type {\n",
       "        vertical-align: middle;\n",
       "    }\n",
       "\n",
       "    .dataframe tbody tr th {\n",
       "        vertical-align: top;\n",
       "    }\n",
       "\n",
       "    .dataframe thead th {\n",
       "        text-align: right;\n",
       "    }\n",
       "</style>\n",
       "<table border=\"1\" class=\"dataframe\">\n",
       "  <thead>\n",
       "    <tr style=\"text-align: right;\">\n",
       "      <th></th>\n",
       "      <th>Age</th>\n",
       "      <th>Gender</th>\n",
       "      <th>Cancer_Type</th>\n",
       "      <th>Laterality</th>\n",
       "      <th>Date_of_Diagnosis</th>\n",
       "      <th>Stage_at_Diagnosis</th>\n",
       "      <th>Treatment_Type</th>\n",
       "      <th>Surgery_Status</th>\n",
       "      <th>Radiation_Therapy</th>\n",
       "      <th>Chemotherapy</th>\n",
       "      <th>Outcome_Status</th>\n",
       "      <th>Survival_Time_Months</th>\n",
       "      <th>Family_History</th>\n",
       "      <th>Country</th>\n",
       "      <th>has_BRAF</th>\n",
       "    </tr>\n",
       "  </thead>\n",
       "  <tbody>\n",
       "    <tr>\n",
       "      <th>0</th>\n",
       "      <td>58</td>\n",
       "      <td>F</td>\n",
       "      <td>Retinoblastoma</td>\n",
       "      <td>Left</td>\n",
       "      <td>2019-01-25</td>\n",
       "      <td>Stage IV</td>\n",
       "      <td>Radiation</td>\n",
       "      <td>False</td>\n",
       "      <td>15</td>\n",
       "      <td>3</td>\n",
       "      <td>Deceased</td>\n",
       "      <td>85</td>\n",
       "      <td>True</td>\n",
       "      <td>UK</td>\n",
       "      <td>False</td>\n",
       "    </tr>\n",
       "    <tr>\n",
       "      <th>1</th>\n",
       "      <td>15</td>\n",
       "      <td>Other</td>\n",
       "      <td>Retinoblastoma</td>\n",
       "      <td>Right</td>\n",
       "      <td>2021-10-21</td>\n",
       "      <td>Stage III</td>\n",
       "      <td>Chemotherapy</td>\n",
       "      <td>True</td>\n",
       "      <td>69</td>\n",
       "      <td>6</td>\n",
       "      <td>In Remission</td>\n",
       "      <td>10</td>\n",
       "      <td>True</td>\n",
       "      <td>Japan</td>\n",
       "      <td>False</td>\n",
       "    </tr>\n",
       "    <tr>\n",
       "      <th>2</th>\n",
       "      <td>64</td>\n",
       "      <td>M</td>\n",
       "      <td>Retinoblastoma</td>\n",
       "      <td>Bilateral</td>\n",
       "      <td>2021-03-12</td>\n",
       "      <td>Stage IV</td>\n",
       "      <td>Surgery</td>\n",
       "      <td>False</td>\n",
       "      <td>47</td>\n",
       "      <td>6</td>\n",
       "      <td>In Remission</td>\n",
       "      <td>3</td>\n",
       "      <td>False</td>\n",
       "      <td>UK</td>\n",
       "      <td>True</td>\n",
       "    </tr>\n",
       "    <tr>\n",
       "      <th>3</th>\n",
       "      <td>33</td>\n",
       "      <td>M</td>\n",
       "      <td>Melanoma</td>\n",
       "      <td>Right</td>\n",
       "      <td>2021-05-10</td>\n",
       "      <td>Stage II</td>\n",
       "      <td>Radiation</td>\n",
       "      <td>True</td>\n",
       "      <td>36</td>\n",
       "      <td>6</td>\n",
       "      <td>Active</td>\n",
       "      <td>40</td>\n",
       "      <td>False</td>\n",
       "      <td>Canada</td>\n",
       "      <td>False</td>\n",
       "    </tr>\n",
       "    <tr>\n",
       "      <th>4</th>\n",
       "      <td>8</td>\n",
       "      <td>Other</td>\n",
       "      <td>Lymphoma</td>\n",
       "      <td>Left</td>\n",
       "      <td>2019-11-24</td>\n",
       "      <td>Stage I</td>\n",
       "      <td>Chemotherapy</td>\n",
       "      <td>False</td>\n",
       "      <td>14</td>\n",
       "      <td>14</td>\n",
       "      <td>In Remission</td>\n",
       "      <td>26</td>\n",
       "      <td>True</td>\n",
       "      <td>USA</td>\n",
       "      <td>True</td>\n",
       "    </tr>\n",
       "  </tbody>\n",
       "</table>\n",
       "</div>"
      ],
      "text/plain": [
       "   Age Gender     Cancer_Type Laterality Date_of_Diagnosis Stage_at_Diagnosis  \\\n",
       "0   58      F  Retinoblastoma       Left        2019-01-25           Stage IV   \n",
       "1   15  Other  Retinoblastoma      Right        2021-10-21          Stage III   \n",
       "2   64      M  Retinoblastoma  Bilateral        2021-03-12           Stage IV   \n",
       "3   33      M        Melanoma      Right        2021-05-10           Stage II   \n",
       "4    8  Other        Lymphoma       Left        2019-11-24            Stage I   \n",
       "\n",
       "  Treatment_Type  Surgery_Status  Radiation_Therapy  Chemotherapy  \\\n",
       "0      Radiation           False                 15             3   \n",
       "1   Chemotherapy            True                 69             6   \n",
       "2        Surgery           False                 47             6   \n",
       "3      Radiation            True                 36             6   \n",
       "4   Chemotherapy           False                 14            14   \n",
       "\n",
       "  Outcome_Status  Survival_Time_Months  Family_History Country  has_BRAF  \n",
       "0       Deceased                    85            True      UK     False  \n",
       "1   In Remission                    10            True   Japan     False  \n",
       "2   In Remission                     3           False      UK      True  \n",
       "3         Active                    40           False  Canada     False  \n",
       "4   In Remission                    26            True     USA      True  "
      ]
     },
     "execution_count": 42,
     "metadata": {},
     "output_type": "execute_result"
    }
   ],
   "source": [
    "df_new = df\n",
    "df_new['has_BRAF'] = pd.notna(df_new['Genetic_Markers'])\n",
    "df_new = df_new.drop(['Patient_ID', 'Genetic_Markers'], axis = 1)\n",
    "df_new.head()"
   ]
  },
  {
   "cell_type": "markdown",
   "id": "244c7c26-fdc6-45ed-acc9-d284ced7b7a6",
   "metadata": {},
   "source": [
    "## Survival time for patients with and without BRAF mutation"
   ]
  },
  {
   "cell_type": "code",
   "execution_count": 45,
   "id": "dd1cd7d9-4bd3-4001-ad15-d80e4ca7f0a2",
   "metadata": {},
   "outputs": [],
   "source": [
    "import scipy.stats as stats\n",
    "\n",
    "group1 = df_new[df_new['has_BRAF'] == True]['Survival_Time_Months']\n",
    "group2 = df_new[df_new['has_BRAF'] != True]['Survival_Time_Months']\n",
    "\n",
    "t_stat, p_val = stats.ttest_ind(group1, group2, nan_policy='omit')"
   ]
  },
  {
   "cell_type": "code",
   "execution_count": 52,
   "id": "3e2e776a-cc07-4846-9f27-e30323683c10",
   "metadata": {},
   "outputs": [
    {
     "data": {
      "image/png": "[encoded data removed]",
      "text/plain": [
       "<Figure size 600x400 with 1 Axes>"
      ]
     },
     "metadata": {},
     "output_type": "display_data"
    }
   ],
   "source": [
    "import matplotlib.pyplot as plt\n",
    "\n",
    "data = [group1, group2]\n",
    "labels = ['BRAF Mutation', 'No BRAF Mutation']\n",
    "\n",
    "# box plot\n",
    "plt.figure(figsize=(6, 4))\n",
    "plt.boxplot(data, tick_labels=labels, patch_artist=True,\n",
    "            boxprops=dict(facecolor='skyblue'),\n",
    "            medianprops=dict(color='red'))\n",
    "\n",
    "plt.title(f'Survival Time by BRAF Mutation Status\\nT-Stat: {t_stat:.2f}, p-value: {p_val:.4f}')\n",
    "plt.ylabel('Survival Time (Months)')\n",
    "plt.grid(True)\n",
    "plt.tight_layout()\n",
    "plt.show()"
   ]
  },
  {
   "cell_type": "markdown",
   "id": "8b819c61-30d6-4736-8d8e-706f81258c66",
   "metadata": {},
   "source": [
    "The results show that there is no significant difference in the survival time for patients with and without the genetic mutation. "
   ]
  },
  {
   "cell_type": "code",
   "execution_count": null,
   "id": "32cadcb9-5a8b-4a10-8871-ea392957ef3d",
   "metadata": {},
   "outputs": [],
   "source": []
  }
 ],
 "metadata": {
  "kernelspec": {
   "display_name": "Python 3 (ipykernel)",
   "language": "python",
   "name": "python3"
  },
  "language_info": {
   "codemirror_mode": {
    "name": "ipython",
    "version": 3
   },
   "file_extension": ".py",
   "mimetype": "text/x-python",
   "name": "python",
   "nbconvert_exporter": "python",
   "pygments_lexer": "ipython3",
   "version": "3.12.3"
  }
 },
 "nbformat": 4,
 "nbformat_minor": 5
}
